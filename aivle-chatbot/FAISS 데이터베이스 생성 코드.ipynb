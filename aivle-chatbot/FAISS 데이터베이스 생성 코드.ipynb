{
 "cells": [
  {
   "cell_type": "code",
   "execution_count": 3,
   "metadata": {},
   "outputs": [],
   "source": [
    "import os\n",
    "import streamlit as st\n",
    "import pandas as pd\n",
    "from langchain.embeddings import OpenAIEmbeddings\n",
    "from langchain.vectorstores import FAISS\n",
    "\n",
    "# OpenAI API 키 설정\n",
    "openai_api_key = os.getenv(\"OPENAI_API_KEY\")\n",
    "if not openai_api_key:\n",
    "    st.error(\"OpenAI API key를 찾을 수 없습니다. Secrets에 API key를 설정해주세요.\")\n",
    "    st.stop()\n",
    "\n",
    "# aivle.csv 데이터 로드\n",
    "csv_path = 'aivle.csv'\n",
    "try:\n",
    "    aivle_data = pd.read_csv(csv_path)\n",
    "    st.success(\"aivle.csv 파일을 성공적으로 불러왔습니다.\")\n",
    "except FileNotFoundError:\n",
    "    st.error(f\"파일을 찾을 수 없습니다: {csv_path}\")\n",
    "    st.stop()\n",
    "\n",
    "# QA 열 데이터를 리스트로 변환\n",
    "qa_texts = aivle_data['QA'].tolist()\n",
    "\n",
    "# OpenAI Embeddings 초기화\n",
    "try:\n",
    "    embeddings = OpenAIEmbeddings(model=\"text-embedding-ada-002\", openai_api_key=openai_api_key)\n",
    "except Exception as e:\n",
    "    st.error(f\"OpenAI Embeddings 초기화 중 오류 발생: {e}\")\n",
    "    st.stop()\n",
    "\n",
    "# FAISS 데이터베이스 생성\n",
    "try:\n",
    "    faiss_db = FAISS.from_texts(qa_texts, embeddings)\n",
    "    st.success(\"FAISS 데이터베이스가 성공적으로 생성되었습니다.\")\n",
    "except Exception as e:\n",
    "    st.error(f\"FAISS 데이터베이스 생성 중 오류 발생: {e}\")\n",
    "    st.stop()\n",
    "\n",
    "# FAISS 인덱스를 파일로 저장 (db_path 설정)\n",
    "db_path = '../aivle_db_fass/faiss_index'\n",
    "try:\n",
    "    faiss_db.save_local(db_path)\n",
    "    st.success(f\"FAISS 인덱스가 성공적으로 {db_path}에 저장되었습니다.\")\n",
    "except Exception as e:\n",
    "    st.error(f\"FAISS 인덱스 저장 중 오류 발생: {e}\")"
   ]
  }
 ],
 "metadata": {
  "kernelspec": {
   "display_name": "cheongju",
   "language": "python",
   "name": "python3"
  },
  "language_info": {
   "codemirror_mode": {
    "name": "ipython",
    "version": 3
   },
   "file_extension": ".py",
   "mimetype": "text/x-python",
   "name": "python",
   "nbconvert_exporter": "python",
   "pygments_lexer": "ipython3",
   "version": "3.11.9"
  }
 },
 "nbformat": 4,
 "nbformat_minor": 2
}
